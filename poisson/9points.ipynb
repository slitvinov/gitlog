{
 "cells": [
  {
   "cell_type": "markdown",
   "id": "f7f82bd3",
   "metadata": {},
   "source": [
    "[![Open in\n",
    "Colab](https://colab.research.google.com/assets/colab-badge.svg)](https://colab.research.google.com/github/slitvinov/gitlog/blob/main/poisson/9points.ipynb)"
   ]
  },
  {
   "cell_type": "code",
   "execution_count": null,
   "id": "2183542b",
   "metadata": {},
   "outputs": [],
   "source": [
    "import itertools\n",
    "import math\n",
    "import numpy as np\n",
    "import scipy\n",
    "def u(i, j):\n",
    "    return math.cos(i / m) * math.sin(j / m)\n",
    "def f(i, j):\n",
    "    return -2 * math.cos(i / m) * math.sin(j / m)\n",
    "def boundary(i, j):\n",
    "    cond = i == 0 or j == 0 or j == m or i == m\n",
    "    return u(i, j) if cond else None\n",
    "def add(i, j, c):\n",
    "    val = boundary(i, j)\n",
    "    if val is None:\n",
    "        if (i, j) not in ik:\n",
    "            ik[i, j] = len(ik)\n",
    "        data.append(c)\n",
    "        col.append(ik[i, j])\n",
    "        row.append(len(rhs) - 1)\n",
    "    else:\n",
    "        rhs[-1] -= c * val\n",
    "def nine():\n",
    "    f0 = 1 / 12 * f(i - 1, j)\n",
    "    f0 += 1 / 12 * f(i, j - 1)\n",
    "    f0 += 2 / 3 * f(i, j)\n",
    "    f0 += 1 / 12 * f(i, j + 1)\n",
    "    f0 += 1 / 12 * f(i + 1, j)\n",
    "    rhs.append(f0 * h**2)\n",
    "    add(i - 1, j - 1, 1 / 6)\n",
    "    add(i - 1, j, 2 / 3)\n",
    "    add(i - 1, j + 1, 1 / 6)\n",
    "    add(i, j - 1, 2 / 3)\n",
    "    add(i, j, -10 / 3)\n",
    "    add(i, j + 1, 2 / 3)\n",
    "    add(i + 1, j - 1, 1 / 6)\n",
    "    add(i + 1, j, 2 / 3)\n",
    "    add(i + 1, j + 1, 1 / 6)\n",
    "def five():\n",
    "    rhs.append(f(i, j) * h**2)\n",
    "    add(i, j, -4)\n",
    "    add(i - 1, j, 1)\n",
    "    add(i + 1, j, 1)\n",
    "    add(i, j - 1, 1)\n",
    "    add(i, j + 1, 1)\n",
    "print(\"scheme      h      error\")\n",
    "for scheme, m in itertools.product((five, nine), (10, 20, 40)):\n",
    "    h = 1 / m\n",
    "    ik = {}\n",
    "    data = []\n",
    "    col = []\n",
    "    row = []\n",
    "    rhs = []\n",
    "    for i in range(m):\n",
    "        for j in range(m):\n",
    "            if boundary(i, j) is None:\n",
    "                scheme()\n",
    "    A = scipy.sparse.csr_matrix((data, (row, col)), dtype=float)\n",
    "    sol = scipy.sparse.linalg.spsolve(A, rhs)\n",
    "    err = 0\n",
    "    for s, t in zip(sol, ik):\n",
    "        err += (s - u(*t))**2\n",
    "    print(f\"{scheme.__name__} {h:8.3f} {math.sqrt(err / m**2):10.2e}\")"
   ]
  },
  {
   "cell_type": "markdown",
   "id": "eff98d1d",
   "metadata": {},
   "source": [
    "```md\n",
    "Table 12.5.1: Comparison of second-order and fourth-order schemes\n",
    "(from [2])\n",
    "\n",
    "|       | Second-order         | Fourth-order         |\n",
    "|-------+--------------+-------+--------------+-------|\n",
    "|     h |       Errors | Order |        Error | Order |\n",
    "|-------+--------------+-------+--------------+-------|\n",
    "| 0.100 |      2.79e-5 |       |     9.40e-09 |       |\n",
    "| 0.050 |      7.01e-6 |  1.99 |     5.85e-10 |  4.01 |\n",
    "| 0.025 |      1.75e-6 |  2.00 |     3.66e-11 |  4.00 |\n",
    "\n",
    "[1] Rosser, J. B. (1975). Nine-point difference solutions for\n",
    "Poisson's equation. Computers & Mathematics with Applications, 1(3-4),\n",
    "351-360.\n",
    "\n",
    "[2] Strikwerda, J. C. (2004). Finite difference schemes and partial\n",
    "differential equations. Society for Industrial and Applied\n",
    "Mathematics.\n",
    "```"
   ]
  }
 ],
 "metadata": {
  "jupytext": {
   "cell_metadata_json": true,
   "formats": "ipynb,md"
  },
  "kernelspec": {
   "display_name": "Python 3 (ipykernel)",
   "language": "python",
   "name": "python3"
  },
  "language_info": {
   "codemirror_mode": {
    "name": "ipython",
    "version": 3
   },
   "file_extension": ".py",
   "mimetype": "text/x-python",
   "name": "python",
   "nbconvert_exporter": "python",
   "pygments_lexer": "ipython3",
   "version": "3.8.10"
  }
 },
 "nbformat": 4,
 "nbformat_minor": 5
}
