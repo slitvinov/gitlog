{
 "cells": [
  {
   "cell_type": "markdown",
   "id": "edcc86d0",
   "metadata": {},
   "source": [
    "[![Open in\n",
    "Colab](https://colab.research.google.com/assets/colab-badge.svg)](https://colab.research.google.com/github/slitvinov/gitlog/blob/main/poisson/9points.ipynb)"
   ]
  },
  {
   "cell_type": "code",
   "execution_count": null,
   "id": "f629b590",
   "metadata": {},
   "outputs": [],
   "source": [
    "import itertools\n",
    "import math\n",
    "import numpy as np\n",
    "import scipy\n",
    "def u(i, j):\n",
    "    return math.cos(i / m) * math.sin(j / m)\n",
    "def f(i, j):\n",
    "    return -2 * math.cos(i / m) * math.sin(j / m)\n",
    "def boundary(i, j):\n",
    "    cond = i == 0 or j == 0 or j == m or i == m\n",
    "    return u(i, j) if cond else None\n",
    "def add(i, j, c):\n",
    "    val = boundary(i, j)\n",
    "    if boundary(i, j) is None:\n",
    "        if (i, j) not in ik:\n",
    "            ik[i, j] = len(ik)\n",
    "        data.append(c)\n",
    "        col.append(ik[i, j])\n",
    "        row.append(len(rhs) - 1)\n",
    "    else:\n",
    "        rhs[-1] -= c * val\n",
    "def nine():\n",
    "    f0 = 1 / 12 * f(i - 1, j)\n",
    "    f0 += 1 / 12 * f(i, j - 1)\n",
    "    f0 += 2 / 3 * f(i, j)\n",
    "    f0 += 1 / 12 * f(i, j + 1)\n",
    "    f0 += 1 / 12 * f(i + 1, j)\n",
    "    rhs.append(f0 * h**2)\n",
    "    add(i - 1, j - 1, 1 / 6)\n",
    "    add(i - 1, j, 2 / 3)\n",
    "    add(i - 1, j + 1, 1 / 6)\n",
    "    add(i, j - 1, 2 / 3)\n",
    "    add(i, j, -10 / 3)\n",
    "    add(i, j + 1, 2 / 3)\n",
    "    add(i + 1, j - 1, 1 / 6)\n",
    "    add(i + 1, j, 2 / 3)\n",
    "    add(i + 1, j + 1, 1 / 6)\n",
    "def five():\n",
    "    rhs.append(f(i, j) * h**2)\n",
    "    add(i, j, -4)\n",
    "    add(i - 1, j, 1)\n",
    "    add(i + 1, j, 1)\n",
    "    add(i, j - 1, 1)\n",
    "    add(i, j + 1, 1)\n",
    "print(\"scheme      h      error\")\n",
    "for scheme, m in itertools.product((five, nine), (10, 20, 40)):\n",
    "    h = 1 / m\n",
    "    ik = {}\n",
    "    data = []\n",
    "    col = []\n",
    "    row = []\n",
    "    rhs = []\n",
    "    for i in range(m):\n",
    "        for j in range(m):\n",
    "            if boundary(i, j) is None:\n",
    "                scheme()\n",
    "    A = scipy.sparse.csr_matrix((data, (row, col)), dtype=float)\n",
    "    sol = scipy.sparse.linalg.spsolve(A, rhs)\n",
    "    err = 0\n",
    "    for s, t in zip(sol, ik):\n",
    "        err += (s - u(*t))**2\n",
    "    print(f\"{scheme.__name__} {h:8.3f} {math.sqrt(err / m**2):10.2e}\")"
   ]
  }
 ],
 "metadata": {
  "jupytext": {
   "formats": "ipynb,md:myst"
  },
  "kernelspec": {
   "display_name": "Python 3 (ipykernel)",
   "language": "python",
   "name": "python3"
  }
 },
 "nbformat": 4,
 "nbformat_minor": 5
}
