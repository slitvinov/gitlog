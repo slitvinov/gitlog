{
 "cells": [
  {
   "cell_type": "markdown",
   "id": "c89a1f65",
   "metadata": {},
   "source": [
    "[![Open in\n",
    "Colab](https://colab.research.google.com/assets/colab-badge.svg)](https://colab.research.google.com/github/slitvinov/gitlog/blob/main/poisson/2.ipynb)"
   ]
  },
  {
   "cell_type": "code",
   "execution_count": null,
   "id": "d46873d1",
   "metadata": {},
   "outputs": [],
   "source": [
    "import matplotlib.pyplot as plt\n",
    "import scipy\n",
    "import numpy as np\n",
    "import functools\n",
    "@functools.cache\n",
    "def boundary(i, j):\n",
    "    boundary0 = i == m - 1 or j == 0 or j == m - 1 or i <= j\n",
    "    boundary1 = (8 * i - 6 * m)**2 + (8 * j - 2 * m)**2 < m**2\n",
    "    return 0 if boundary0 else 1 if boundary1 else None\n",
    "def add(i, j, c):\n",
    "    val = boundary(i, j)\n",
    "    if val is None:\n",
    "        if (i, j) not in ik:\n",
    "            ik[i, j] = len(ik)\n",
    "        data.append(c)\n",
    "        col.append(ik[i, j])\n",
    "        row.append(len(rhs) - 1)\n",
    "    else:\n",
    "        rhs[-1] -= c * val\n",
    "plt.rcParams[\"image.cmap\"] = \"jet\"\n",
    "m = 40\n",
    "ik = {}; data = []; col = []; row = []; rhs = []\n",
    "for i in range(m):\n",
    "    for j in range(m):\n",
    "        if boundary(i, j) is None:\n",
    "            rhs.append(0)\n",
    "            add(i, j, -1) # 5 point scheme for the Poisson equation\n",
    "            add(i - 1, j, 1 / 4)\n",
    "            add(i + 1, j, 1 / 4)\n",
    "            add(i, j - 1, 1 / 4)\n",
    "            add(i, j + 1, 1 / 4)\n",
    "A = scipy.sparse.csr_matrix((data, (row, col)), dtype=float)\n",
    "sol = scipy.sparse.linalg.spsolve(A, rhs)\n",
    "fi = np.empty((m, m))\n",
    "fi.fill(None)\n",
    "for s, t in zip(sol, ik):\n",
    "    fi[t] = s\n",
    "plt.imshow(fi)\n",
    "plt.axis(\"off\");"
   ]
  }
 ],
 "metadata": {
  "jupytext": {
   "formats": "ipynb,md:myst"
  },
  "kernelspec": {
   "display_name": "Python 3",
   "name": "python3"
  }
 },
 "nbformat": 4,
 "nbformat_minor": 5
}
