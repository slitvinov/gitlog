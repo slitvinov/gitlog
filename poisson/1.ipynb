{
 "cells": [
  {
   "cell_type": "markdown",
   "id": "307d9b8c",
   "metadata": {},
   "source": [
    "[![Open in\n",
    "Colab](https://colab.research.google.com/assets/colab-badge.svg)](https://colab.research.google.com/github/slitvinov/gitlog/blob/main/poisson/1.ipynb)"
   ]
  },
  {
   "cell_type": "code",
   "execution_count": null,
   "id": "1f0e7d29",
   "metadata": {},
   "outputs": [],
   "source": [
    "import matplotlib.pyplot as plt\n",
    "import scipy\n",
    "import numpy as np\n",
    "import random\n",
    "def boundary(i):\n",
    "    return i == 0 or i == m - 1 or i in boundaries\n",
    "def add(i, c):\n",
    "    if not boundary(i):\n",
    "        if not i in ik:\n",
    "            ik[i] = len(ik)\n",
    "        col.append(ik[i])\n",
    "        row.append(len(rhs) - 1)\n",
    "        data.append(c)\n",
    "m = 100\n",
    "random.seed(12)\n",
    "boundaries = random.sample(range(m), 8)\n",
    "rhs = []; row = []; col = []; data = []; ik = {}\n",
    "for i in range(m):\n",
    "    if not boundary(i):\n",
    "        rhs.append(-1)\n",
    "        add(i, -2)\n",
    "        add(i + 1, 1)\n",
    "        add(i - 1, 1)\n",
    "A = scipy.sparse.csr_matrix((data, (row, col)), dtype=float)\n",
    "sol = scipy.sparse.linalg.spsolve(A, rhs)\n",
    "fi = np.zeros(m)\n",
    "for i, s in zip(ik, sol):\n",
    "    fi[i] = s\n",
    "plt.plot(fi);"
   ]
  }
 ],
 "metadata": {
  "jupytext": {
   "formats": "ipynb,md:myst"
  },
  "kernelspec": {
   "display_name": "Python 3",
   "name": "python3"
  }
 },
 "nbformat": 4,
 "nbformat_minor": 5
}
